{
 "cells": [
  {
   "cell_type": "code",
   "execution_count": 20,
   "metadata": {},
   "outputs": [
    {
     "name": "stdout",
     "output_type": "stream",
     "text": [
      " * Serving Flask app '__main__' (lazy loading)\n",
      " * Environment: production\n",
      "\u001b[31m   WARNING: This is a development server. Do not use it in a production deployment.\u001b[0m\n",
      "\u001b[2m   Use a production WSGI server instead.\u001b[0m\n",
      " * Debug mode: off\n"
     ]
    },
    {
     "name": "stderr",
     "output_type": "stream",
     "text": [
      " * Running on http://127.0.0.1:5000/ (Press CTRL+C to quit)\n",
      "127.0.0.1 - - [31/Aug/2022 11:02:02] \"GET /ColorRecommend?ColorData=200,200,205:139,134,128:115,106,98:0,0,0:128,85,51 HTTP/1.1\" 200 -\n"
     ]
    },
    {
     "name": "stdout",
     "output_type": "stream",
     "text": [
      "200,200,205:139,134,128:115,106,98:0,0,0:128,85,51 <class 'str'>\n"
     ]
    }
   ],
   "source": [
    "from flask import Flask # 플라스크 클래스 임포트\n",
    "from flask import request, redirect\n",
    "import scipy.spatial.distance as distance \n",
    "import cx_Oracle\n",
    "import numpy as np\n",
    "\n",
    "app = Flask(__name__) # 내장변수 name을 이용해 서버를 구동시키는 객체 생성\n",
    "\n",
    "def userRgb(requestForm):\n",
    "    return sorted([tuple(map(int, i.split(','))) for i in requestForm.split(\":\")], key= lambda x:(x[0], x[1], x[2]))\n",
    "\n",
    "def dbConnection():\n",
    "    dsn = cx_Oracle.makedsn(\"project-db-stu.ddns.net\", 1524, service_name = \"XE\")\n",
    "    connection = cx_Oracle.connect(user = \"gjai_4_3_0822\", password=\"smhrd3\", dsn=dsn, encoding=\"utf-8\")\n",
    "    cursor = connection.cursor()\n",
    "    return cursor, connection\n",
    "\n",
    "def ThemeRgb():\n",
    "    cur, conn = dbConnection()\n",
    "    resultLi = []\n",
    "    for row in cur.execute(\"SELECT THEME_SEQ, THEME_COL1 , THEME_COL2 , THEME_COL3 , THEME_COL4 , THEME_COL5  FROM D_THEME dt\"):\n",
    "        resultLi.append({str(row[1]) : [tuple(map(int, i.split(\",\"))) for i in row[1:]]})\n",
    "    return resultLi\n",
    "\n",
    "def calDistance(requestForm):\n",
    "    usercol = userRgb(requestForm)\n",
    "    themeExtract = ThemeRgb()\n",
    "    \n",
    "    for seq, themecol in themeExtract.items():\n",
    "        themeExtract[seq] = [np.mean([distance.pdist(np.array([tc, uc])).min() for tc in themecol]) for uc in usercol]\n",
    "    \n",
    "    # print(themeExtract) #check\n",
    "    result = sorted(themeExtract.items(), key=lambda x:x[1])\n",
    "    \n",
    "    return \":\".join([i[0] for i in result[:8]])\n",
    "\n",
    "@app.route(\"/ColorRecommend\", methods=[\"GET\",'POST'])\n",
    "def ColorRecommend() :\n",
    "    if request.method == 'POST' :\n",
    "        display(request.form)\n",
    "        return \"Error?\";\n",
    "    else :\n",
    "        recommedTheme = calDistance(request.args['ColorData'])\n",
    "        print(recommedTheme)\n",
    "        return recommedTheme\n",
    "\n",
    "if __name__ == \"__main__\" : # .py 파일에서 main함수 역할\n",
    "    app.run()"
   ]
  },
  {
   "cell_type": "code",
   "execution_count": 30,
   "metadata": {},
   "outputs": [
    {
     "name": "stdout",
     "output_type": "stream",
     "text": [
      "[(242, 186, 73), (242, 198, 73), (248, 213, 104), (251, 231, 178), (252, 214, 103)]\n"
     ]
    }
   ],
   "source": [
    "import scipy.spatial.distance as distance \n",
    "import cx_Oracle\n",
    "import numpy as np\n",
    "\n",
    "def userRgb(requestForm):\n",
    "    return sorted([tuple(map(int, i.split(','))) for i in requestForm.split(\":\")], key= lambda x:(x[0], x[1], x[2]))\n",
    "\n",
    "def dbConnection():\n",
    "    dsn = cx_Oracle.makedsn(\"project-db-stu.ddns.net\", 1524, service_name = \"XE\")\n",
    "    connection = cx_Oracle.connect(user = \"gjai_4_3_0822\", password=\"smhrd3\", dsn=dsn, encoding=\"utf-8\")\n",
    "    cursor = connection.cursor()\n",
    "    return cursor, connection\n",
    "\n",
    "def ThemeRgb():\n",
    "    cur, conn = dbConnection()\n",
    "    resultLi = []\n",
    "    for row in cur.execute(\"SELECT THEME_SEQ, THEME_COL1 , THEME_COL2 , THEME_COL3 , THEME_COL4 , THEME_COL5  FROM D_THEME dt\"):\n",
    "        resultLi.append({str(row[1]) : [tuple(map(int, i.split(\",\"))) for i in row[1:]]})\n",
    "    return resultLi\n",
    "\n",
    "def calDistance(requestForm):\n",
    "    usercol = userRgb(requestForm)\n",
    "    themeExtract = ThemeRgb()\n",
    "    \n",
    "    for seq, themecol in themeExtract.items():\n",
    "        themeExtract[seq] = [np.mean([distance.pdist(np.array([tc, uc])).min() for tc in themecol]) for uc in usercol]\n",
    "    \n",
    "    # print(themeExtract) #check\n",
    "    result = sorted(themeExtract.items(), key=lambda x:x[1])\n",
    "    \n",
    "    return \":\".join([i[0] for i in result[:8]])"
   ]
  }
 ],
 "metadata": {
  "kernelspec": {
   "display_name": "Python 3.9.12 ('test')",
   "language": "python",
   "name": "python3"
  },
  "language_info": {
   "codemirror_mode": {
    "name": "ipython",
    "version": 3
   },
   "file_extension": ".py",
   "mimetype": "text/x-python",
   "name": "python",
   "nbconvert_exporter": "python",
   "pygments_lexer": "ipython3",
   "version": "3.9.12"
  },
  "orig_nbformat": 4,
  "vscode": {
   "interpreter": {
    "hash": "6d883de6d834198837d236f3f0eb6100f058ced473d573f54aa3c53db6094808"
   }
  }
 },
 "nbformat": 4,
 "nbformat_minor": 2
}
