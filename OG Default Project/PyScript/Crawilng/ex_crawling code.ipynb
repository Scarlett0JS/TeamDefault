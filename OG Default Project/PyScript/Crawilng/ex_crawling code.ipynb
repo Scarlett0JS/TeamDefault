{
 "cells": [
  {
   "cell_type": "code",
   "execution_count": null,
   "id": "e51932f1",
   "metadata": {},
   "outputs": [],
   "source": [
    "from selenium import webdriver as wb\n",
    "from selenium.webdriver.common.keys import Keys\n",
    "from selenium.webdriver.common.by import By\n",
    "import time\n",
    "import os\n",
    "from urllib.request import urlretrieve\n",
    "from tqdm import tqdm_notebook\n",
    "from bs4 import BeautifulSoup as bs\n",
    "import pandas as pd\n",
    "import requests"
   ]
  },
  {
   "cell_type": "code",
   "execution_count": null,
   "id": "c71bb4f1",
   "metadata": {},
   "outputs": [],
   "source": [
    "driver = wb.Chrome()\n",
    "driver.get('https://marketplace.visualstudio.com/search?target=VSCode&category=All%20categories&sortBy=Installs')\n",
    "time.sleep(3)\n",
    "\n",
    "title_list = []\n",
    "publisher_list = []\n",
    "info_list = []\n",
    "#link_list = []\n",
    "\n",
    "for i in tqdm_notebook(range(30)):\n",
    "    first= driver.find_elements(By.CLASS_NAME, 'gallery-item-card')\n",
    "\n",
    "    first[i].click()\n",
    "    time.sleep(3)\n",
    "    \n",
    "    title = driver.find_element(By.CLASS_NAME,'ux-item-name')\n",
    "    publisher = driver.find_element(By.CLASS_NAME,'ux-item-publisher')\n",
    "    info = driver.find_element(By.CLASS_NAME,'ux-item-shortdesc')\n",
    "    #link = \n",
    "    \n",
    "    title_list.append(title.text)\n",
    "    publisher_list.append(publisher.text)\n",
    "    info_list.append(info.text)\n",
    "    #link_list.append(link.text)\n",
    "\n",
    "    icon = driver.find_element(By.CLASS_NAME, 'image-display').get_attribute('src')\n",
    "    str = title.text\n",
    "    if \"/\" in title.text:\n",
    "        new_str = str.replace(\"/\",\"^\")\n",
    "        urlretrieve(icon, f'C:/Users/aischool/Desktop/icon/{new_str}.png')\n",
    "    else:\n",
    "        urlretrieve(icon, f'C:/Users/aischool/Desktop/icon/{title.text}.png')\n",
    "\n",
    "    time.sleep(3) \n",
    "    driver.back()\n",
    "    time.sleep(3)  \n"
   ]
  },
  {
   "cell_type": "code",
   "execution_count": null,
   "id": "410790d2",
   "metadata": {},
   "outputs": [],
   "source": [
    "dic={'이름':title_list,'제작자':publisher_list,'정보':info_list}\n",
    "df = pd.DataFrame(dic)\n",
    "df\n",
    "\n",
    "df.to_csv('extensions.csv')"
   ]
  }
 ],
 "metadata": {
  "kernelspec": {
   "display_name": "Python 3.9.12 ('test')",
   "language": "python",
   "name": "python3"
  },
  "language_info": {
   "codemirror_mode": {
    "name": "ipython",
    "version": 3
   },
   "file_extension": ".py",
   "mimetype": "text/x-python",
   "name": "python",
   "nbconvert_exporter": "python",
   "pygments_lexer": "ipython3",
   "version": "3.9.12"
  },
  "vscode": {
   "interpreter": {
    "hash": "6d883de6d834198837d236f3f0eb6100f058ced473d573f54aa3c53db6094808"
   }
  }
 },
 "nbformat": 4,
 "nbformat_minor": 5
}
