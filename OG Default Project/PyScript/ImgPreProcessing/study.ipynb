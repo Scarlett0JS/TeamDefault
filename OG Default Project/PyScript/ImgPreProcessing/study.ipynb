{
 "cells": [
  {
   "cell_type": "code",
   "execution_count": 1,
   "metadata": {},
   "outputs": [],
   "source": [
    "from sklearn.cluster import KMeans\n",
    "from PIL import Image\n",
    "import matplotlib.pyplot as plt\n",
    "import numpy as np\n",
    "import itertools\n",
    "import os\n",
    "import cv2"
   ]
  },
  {
   "cell_type": "code",
   "execution_count": 2,
   "metadata": {},
   "outputs": [],
   "source": [
    "img = cv2.imread(\"IMG_3666.jpg\")\n",
    "imgrgb = cv2.cvtColor(img, cv2.COLOR_BGR2RGB)\n",
    "imgrgb_pixel = imgrgb.reshape((-1,3))\n",
    "\n",
    "km = KMeans(n_clusters=5).fit(imgrgb_pixel)\n",
    "\n",
    "centers = km.cluster_centers_\n"
   ]
  },
  {
   "cell_type": "code",
   "execution_count": 3,
   "metadata": {},
   "outputs": [
    {
     "data": {
      "text/plain": [
       "['14,3,10', '108,55,89', '221,95,161', '233,100,188', '238,191,233']"
      ]
     },
     "execution_count": 3,
     "metadata": {},
     "output_type": "execute_result"
    }
   ],
   "source": [
    "[\",\".join(map(str, val)) for val in sorted([list(map(int, i)) for i in centers], key=lambda x: (x[0], x[1], x[2]))]"
   ]
  },
  {
   "cell_type": "code",
   "execution_count": 4,
   "metadata": {},
   "outputs": [
    {
     "data": {
      "image/png": "[encoded data removed]",
      "text/plain": [
       "<Figure size 720x144 with 5 Axes>"
      ]
     },
     "metadata": {
      "needs_background": "light"
     },
     "output_type": "display_data"
    }
   ],
   "source": [
    "plt.figure(0, figsize=(10,2))\n",
    "for idx, each_col in enumerate(centers):\n",
    "    plt.subplot(1,8,idx+1)\n",
    "    plt.axis(False)\n",
    "    \n",
    "    a = np.zeros((100,100,3), dtype='uint8')\n",
    "    a[:,:,:] = each_col\n",
    "    plt.imshow(a)\n",
    "plt.subplots_adjust(left=0, bottom=0, right=1, top=1, wspace=-0.1, hspace=0)\n",
    "plt.savefig(\"testplot.png\", bbox_inches='tight', pad_inches = 0)\n",
    "plt.show()"
   ]
  },
  {
   "cell_type": "code",
   "execution_count": 7,
   "metadata": {},
   "outputs": [],
   "source": [
    "cropImg = cv2.imread(\"IMG_3666.jpg\")\n",
    "extractImg = cv2.imread(\"testplot.png\")\n",
    "extractImg = cv2.resize(extractImg, (cropImg.shape[1], 30))\n",
    "\n",
    "addv = cv2.vconcat([cropImg, extractImg])\n",
    "\n",
    "cv2.imshow('addv', addv)\n",
    "cv2.waitKey(0)\n",
    "cv2.destroyAllWindows()\n"
   ]
  },
  {
   "cell_type": "markdown",
   "metadata": {},
   "source": []
  }
 ],
 "metadata": {
  "kernelspec": {
   "display_name": "Python 3.9.12 ('test')",
   "language": "python",
   "name": "python3"
  },
  "language_info": {
   "codemirror_mode": {
    "name": "ipython",
    "version": 3
   },
   "file_extension": ".py",
   "mimetype": "text/x-python",
   "name": "python",
   "nbconvert_exporter": "python",
   "pygments_lexer": "ipython3",
   "version": "3.9.12"
  },
  "orig_nbformat": 4,
  "vscode": {
   "interpreter": {
    "hash": "6d883de6d834198837d236f3f0eb6100f058ced473d573f54aa3c53db6094808"
   }
  }
 },
 "nbformat": 4,
 "nbformat_minor": 2
}
