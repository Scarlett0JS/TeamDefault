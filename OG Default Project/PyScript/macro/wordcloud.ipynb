{
 "cells": [
  {
   "cell_type": "code",
   "execution_count": 1,
   "metadata": {},
   "outputs": [
    {
     "data": {
      "text/plain": [
       "<wordcloud.wordcloud.WordCloud at 0x18595435f40>"
      ]
     },
     "execution_count": 1,
     "metadata": {},
     "output_type": "execute_result"
    }
   ],
   "source": [
    "import numpy as np\n",
    "from wordcloud import WordCloud, STOPWORDS\n",
    "import matplotlib.pyplot as plt\n",
    "from PIL import Image\n",
    "import random\n",
    "from palettable.colorbrewer.qualitative import Paired_6\n",
    "%matplotlib inline\n",
    "\n",
    "def color_func(word, font_size, position, orientation, random_state=None, **kwargs):\n",
    "    return tuple(Paired_6.colors[random.randint(0,5)])\n",
    "\n",
    "text = open('ThemeName.txt', 'r', encoding='utf-8').read()\n",
    "mask = np.array(Image.open('visual-studio-code.png'))\n",
    "\n",
    "stopwords = set(STOPWORDS)\n",
    "\n",
    "wc = WordCloud(\n",
    "    font_path=r'C:\\Users\\evil8\\AppData\\Local\\Microsoft\\Windows\\Fonts\\NanumBarunGothicBold.ttf',\n",
    "    background_color = 'white',\n",
    "    stopwords = stopwords,\n",
    "    mask = mask,\n",
    "    max_font_size=400\n",
    "    ).generate(text)\n",
    "\n",
    "wc.recolor(color_func=color_func, random_state=3)\n",
    "\n",
    "# plt.figure(figsize=(20,15))\n",
    "# plt.imshow(wc, interpolation = 'bilinear')\n",
    "# plt.axis('off')\n",
    "# plt.show()"
   ]
  }
 ],
 "metadata": {
  "kernelspec": {
   "display_name": "Python 3.9.12 ('test')",
   "language": "python",
   "name": "python3"
  },
  "language_info": {
   "codemirror_mode": {
    "name": "ipython",
    "version": 3
   },
   "file_extension": ".py",
   "mimetype": "text/x-python",
   "name": "python",
   "nbconvert_exporter": "python",
   "pygments_lexer": "ipython3",
   "version": "3.9.12"
  },
  "vscode": {
   "interpreter": {
    "hash": "6d883de6d834198837d236f3f0eb6100f058ced473d573f54aa3c53db6094808"
   }
  }
 },
 "nbformat": 4,
 "nbformat_minor": 4
}
